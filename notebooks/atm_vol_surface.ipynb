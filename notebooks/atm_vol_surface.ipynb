{
 "cells": [
  {
   "cell_type": "code",
   "execution_count": null,
   "metadata": {},
   "outputs": [],
   "source": [
    "import sys\n",
    "\n",
    "sys.path.append(\"../\")\n"
   ]
  },
  {
   "cell_type": "code",
   "execution_count": null,
   "metadata": {},
   "outputs": [],
   "source": [
    "from CurvyCUSIPs.CurveDataFetcher import CurveDataFetcher\n",
    "from CurvyCUSIPs.CurveInterpolator import GeneralCurveInterpolator\n",
    "from CurvyCUSIPs.USTs import USTs\n",
    "from CurvyCUSIPs.S490Swaps import S490Swaps\n",
    "from CurvyCUSIPs.S490Swaptions import S490Swaptions\n",
    "\n",
    "from CurvyCUSIPs.utils.ust_viz import plot_usts\n",
    "from CurvyCUSIPs.HedgeHog import dv01_neutral_curve_hedge_ratio, beta_estimates\n",
    "from CurvyCUSIPs.utils.pca_utils import calc_pca_loadings_matrix\n",
    "from CurvyCUSIPs.utils.rv_utils import cusip_spread_rv_regression\n",
    "from CurvyCUSIPs.utils.ust_viz import plot_usts\n",
    "from CurvyCUSIPs.models.calibrate import calibrate_mles_ols, calibrate_nss_ols\n",
    "\n",
    "import requests\n",
    "import numpy as np\n",
    "import QuantLib as ql\n",
    "import pandas as pd\n",
    "import scipy.interpolate\n",
    "import requests\n",
    "from datetime import datetime\n",
    "from typing import Dict, List\n",
    "import ujson as json\n",
    "import matplotlib.pyplot as plt\n",
    "\n",
    "import tqdm\n",
    "import os\n",
    "from dotenv import dotenv_values\n",
    "\n",
    "env_path = os.path.join(os.getcwd(), \"../.env\")\n",
    "config = dotenv_values(env_path)\n",
    "\n",
    "import nest_asyncio\n",
    "\n",
    "nest_asyncio.apply()\n",
    "\n",
    "import warnings\n",
    "\n",
    "warnings.filterwarnings(\"ignore\", category=FutureWarning)\n",
    "warnings.filterwarnings(\"ignore\", category=pd.errors.SettingWithCopyWarning)\n",
    "\n",
    "%load_ext autoreload\n",
    "%autoreload 2\n"
   ]
  },
  {
   "cell_type": "code",
   "execution_count": null,
   "metadata": {},
   "outputs": [
    {
     "name": "stdout",
     "output_type": "stream",
     "text": [
      "\u001b[33m..\\db\\nyclose_sofr_ois is behind --- cd into 'scripts' and run 'update_sofr_ois_db.py' to update --- most recent date in db: 2024-12-24 00:00:00\u001b[0m\n",
      "\u001b[33m..\\db\\s490_swaption_atm_vol is behind --- cd into 'scripts' and run 'update_atm_swaption_vol.py' to update --- most recent date in db: 2024-12-24 00:00:00\u001b[0m\n",
      "\u001b[33m..\\db\\s490_swaption_vol_cube is behind --- cd into 'scripts' and run 'update_atm_swaption_vol.py' to update --- most recent date in db: 2024-12-24 00:00:00\u001b[0m\n"
     ]
    }
   ],
   "source": [
    "s490_swaps = S490Swaps(s490_curve_db_path=r\"..\\db\\nyclose_sofr_ois\")\n",
    "s490_swaptions = S490Swaptions(s490_swaps, error_verbose=True)\n"
   ]
  },
  {
   "cell_type": "code",
   "execution_count": null,
   "metadata": {},
   "outputs": [
    {
     "data": {
      "application/vnd.plotly.v1+json": {
       "config": {
        "plotlyServerURL": "https://plot.ly"
       },
       "data": [
        {
         "colorscale": [
          [
           0,
           "rgb(0,104,55)"
          ],
          [
           0.1,
           "rgb(26,152,80)"
          ],
          [
           0.2,
           "rgb(102,189,99)"
          ],
          [
           0.3,
           "rgb(166,217,106)"
          ],
          [
           0.4,
           "rgb(217,239,139)"
          ],
          [
           0.5,
           "rgb(255,255,191)"
          ],
          [
           0.6,
           "rgb(254,224,139)"
          ],
          [
           0.7,
           "rgb(253,174,97)"
          ],
          [
           0.8,
           "rgb(244,109,67)"
          ],
          [
           0.9,
           "rgb(215,48,39)"
          ],
          [
           1,
           "rgb(165,0,38)"
          ]
         ],
         "contours": {
          "z": {
           "highlightcolor": "limegreen",
           "project": {
            "z": true
           },
           "show": true,
           "usecolormap": true
          }
         },
         "showscale": true,
         "type": "surface",
         "x": [
          [
           0,
           1,
           2,
           3,
           4,
           5,
           6,
           7,
           8,
           9,
           10
          ],
          [
           0,
           1,
           2,
           3,
           4,
           5,
           6,
           7,
           8,
           9,
           10
          ],
          [
           0,
           1,
           2,
           3,
           4,
           5,
           6,
           7,
           8,
           9,
           10
          ],
          [
           0,
           1,
           2,
           3,
           4,
           5,
           6,
           7,
           8,
           9,
           10
          ],
          [
           0,
           1,
           2,
           3,
           4,
           5,
           6,
           7,
           8,
           9,
           10
          ],
          [
           0,
           1,
           2,
           3,
           4,
           5,
           6,
           7,
           8,
           9,
           10
          ],
          [
           0,
           1,
           2,
           3,
           4,
           5,
           6,
           7,
           8,
           9,
           10
          ],
          [
           0,
           1,
           2,
           3,
           4,
           5,
           6,
           7,
           8,
           9,
           10
          ],
          [
           0,
           1,
           2,
           3,
           4,
           5,
           6,
           7,
           8,
           9,
           10
          ],
          [
           0,
           1,
           2,
           3,
           4,
           5,
           6,
           7,
           8,
           9,
           10
          ],
          [
           0,
           1,
           2,
           3,
           4,
           5,
           6,
           7,
           8,
           9,
           10
          ],
          [
           0,
           1,
           2,
           3,
           4,
           5,
           6,
           7,
           8,
           9,
           10
          ],
          [
           0,
           1,
           2,
           3,
           4,
           5,
           6,
           7,
           8,
           9,
           10
          ],
          [
           0,
           1,
           2,
           3,
           4,
           5,
           6,
           7,
           8,
           9,
           10
          ]
         ],
         "y": [
          [
           0,
           0,
           0,
           0,
           0,
           0,
           0,
           0,
           0,
           0,
           0
          ],
          [
           1,
           1,
           1,
           1,
           1,
           1,
           1,
           1,
           1,
           1,
           1
          ],
          [
           2,
           2,
           2,
           2,
           2,
           2,
           2,
           2,
           2,
           2,
           2
          ],
          [
           3,
           3,
           3,
           3,
           3,
           3,
           3,
           3,
           3,
           3,
           3
          ],
          [
           4,
           4,
           4,
           4,
           4,
           4,
           4,
           4,
           4,
           4,
           4
          ],
          [
           5,
           5,
           5,
           5,
           5,
           5,
           5,
           5,
           5,
           5,
           5
          ],
          [
           6,
           6,
           6,
           6,
           6,
           6,
           6,
           6,
           6,
           6,
           6
          ],
          [
           7,
           7,
           7,
           7,
           7,
           7,
           7,
           7,
           7,
           7,
           7
          ],
          [
           8,
           8,
           8,
           8,
           8,
           8,
           8,
           8,
           8,
           8,
           8
          ],
          [
           9,
           9,
           9,
           9,
           9,
           9,
           9,
           9,
           9,
           9,
           9
          ],
          [
           10,
           10,
           10,
           10,
           10,
           10,
           10,
           10,
           10,
           10,
           10
          ],
          [
           11,
           11,
           11,
           11,
           11,
           11,
           11,
           11,
           11,
           11,
           11
          ],
          [
           12,
           12,
           12,
           12,
           12,
           12,
           12,
           12,
           12,
           12,
           12
          ],
          [
           13,
           13,
           13,
           13,
           13,
           13,
           13,
           13,
           13,
           13,
           13
          ]
         ],
         "z": [
          [
           134.37060939334893,
           110.94294547082397,
           97.3973973157545,
           90.99363834426873,
           87.62752952355932,
           75.08642220801306,
           84.16696355871949,
           82.67224998260217,
           82.73355630488098,
           90.78502131252203,
           118.62736686593428
          ],
          [
           155.25985641442654,
           130.7991934327067,
           116.99128030294307,
           110.65203091214119,
           107.38733566843497,
           101.59685034488027,
           104.07982353747643,
           102.65438784514109,
           102.67319137847844,
           110.63954682703651,
           140.42179802478648
          ],
          [
           152.33532329566387,
           128.75711114932292,
           116.0806966432023,
           110.55075637706565,
           107.84202742700032,
           102.4885564714661,
           105.30962237746446,
           104.43885447049763,
           105.21380414928232,
           113.9272616940222,
           143.8615320577913
          ],
          [
           149.4658777839637,
           126.74691056140429,
           115.17720037150663,
           110.44957453374968,
           108.29864440881504,
           103.38808901996848,
           106.55395242182452,
           106.25434092076235,
           107.81728350837982,
           117.31267281299532,
           147.3855248767127
          ],
          [
           146.65048222841597,
           124.76809392088542,
           114.28073632425975,
           110.3484852973571,
           108.75719476552112,
           104.29551668216621,
           107.81298537010115,
           108.10138642122735,
           110.48518506785341,
           120.79868328171185,
           150.99584046177023
          ],
          [
           144.56165957539815,
           122.92709800806928,
           112.83497161958904,
           109.20225058491137,
           107.82001232023815,
           103.52215595394057,
           107.16929258066006,
           107.67053126401606,
           110.35847877536996,
           121.03962970243352,
           151.4284669933615
          ],
          [
           142.50258916055537,
           121.11326661980802,
           111.40749727293047,
           108.0679222798121,
           106.89090576306208,
           102.75452976575066,
           106.52944293131723,
           107.24139334811558,
           110.23191779182132,
           121.2810567176127,
           151.86233306714985
          ],
          [
           140.47284720656282,
           119.32619893424842,
           109.99808189310754,
           106.94537670535114,
           105.96980550245388,
           101.99259559546132,
           105.89341347676991,
           106.8139658291889,
           110.10550195056484,
           121.52296528584841,
           152.29744223461614
          ],
          [
           138.47201597218628,
           117.56550004380026,
           108.60649701627145,
           105.8344914695011,
           105.0566425465587,
           101.23631123624287,
           105.26118140870965,
           106.38824189017892,
           109.97923108514865,
           121.76535636765205,
           152.733798057417
          ],
          [
           136.4996836663079,
           115.83078086786993,
           107.23251706886776,
           104.73514545156986,
           104.15134849803827,
           100.4856347942331,
           104.63272405500365,
           105.96421474119849,
           109.8531050293121,
           122.00823092545053,
           153.17140410741328
          ],
          [
           134.03759703644303,
           113.59632898656344,
           105.14458500156421,
           102.75180673694094,
           102.24444279632755,
           99.149576949069,
           102.83875190479846,
           104.25569600816911,
           108.26992450837588,
           120.56919138128137,
           151.7240957097362
          ],
          [
           131.61991981772198,
           111.40498115042074,
           103.09730721000496,
           100.8060259255352,
           100.37245060661321,
           97.8312833402486,
           101.07553816315787,
           102.57472465298092,
           106.70956046186878,
           119.14712474782465,
           150.29046285163005
          ],
          [
           129.2458509839853,
           109.25590585408453,
           101.08989211185734,
           98.89709179436095,
           98.53473269785243,
           96.53051777433596,
           99.34255546420428,
           100.92085651426095,
           105.17168406341986,
           117.7418308362119,
           148.87037631365325
          ],
          [
           126.91460395742733,
           107.14828763248259,
           99.12156353774535,
           97.0243065886473,
           96.73066154267563,
           95.24704719832526,
           97.63928548397026,
           99.29365459209215,
           103.65597122563675,
           116.35311181872444,
           147.46370809735225
          ]
         ]
        }
       ],
       "layout": {
        "height": 750,
        "scene": {
         "aspectratio": {
          "x": 1,
          "y": 1,
          "z": 0.6
         },
         "xaxis": {
          "ticktext": [
           "-200",
           "-100",
           "-50",
           "-25",
           "-10",
           "0",
           "10",
           "25",
           "50",
           "100",
           "200"
          ],
          "tickvals": [
           0,
           1,
           2,
           3,
           4,
           5,
           6,
           7,
           8,
           9,
           10
          ],
          "title": {
           "text": "ATM Strike Offsets"
          }
         },
         "yaxis": {
          "ticktext": [
           "1Y",
           "2Y",
           "3Y",
           "4Y",
           "5Y",
           "6Y",
           "7Y",
           "8Y",
           "9Y",
           "10Y",
           "15Y",
           "20Y",
           "25Y",
           "30Y"
          ],
          "tickvals": [
           0,
           1,
           2,
           3,
           4,
           5,
           6,
           7,
           8,
           9,
           10,
           11,
           12,
           13
          ],
          "title": {
           "text": "Tail"
          }
         },
         "zaxis": {
          "title": {
           "text": "Normal Vol"
          }
         }
        },
        "template": {
         "data": {
          "bar": [
           {
            "error_x": {
             "color": "#f2f5fa"
            },
            "error_y": {
             "color": "#f2f5fa"
            },
            "marker": {
             "line": {
              "color": "rgb(17,17,17)",
              "width": 0.5
             },
             "pattern": {
              "fillmode": "overlay",
              "size": 10,
              "solidity": 0.2
             }
            },
            "type": "bar"
           }
          ],
          "barpolar": [
           {
            "marker": {
             "line": {
              "color": "rgb(17,17,17)",
              "width": 0.5
             },
             "pattern": {
              "fillmode": "overlay",
              "size": 10,
              "solidity": 0.2
             }
            },
            "type": "barpolar"
           }
          ],
          "carpet": [
           {
            "aaxis": {
             "endlinecolor": "#A2B1C6",
             "gridcolor": "#506784",
             "linecolor": "#506784",
             "minorgridcolor": "#506784",
             "startlinecolor": "#A2B1C6"
            },
            "baxis": {
             "endlinecolor": "#A2B1C6",
             "gridcolor": "#506784",
             "linecolor": "#506784",
             "minorgridcolor": "#506784",
             "startlinecolor": "#A2B1C6"
            },
            "type": "carpet"
           }
          ],
          "choropleth": [
           {
            "colorbar": {
             "outlinewidth": 0,
             "ticks": ""
            },
            "type": "choropleth"
           }
          ],
          "contour": [
           {
            "colorbar": {
             "outlinewidth": 0,
             "ticks": ""
            },
            "colorscale": [
             [
              0,
              "#0d0887"
             ],
             [
              0.1111111111111111,
              "#46039f"
             ],
             [
              0.2222222222222222,
              "#7201a8"
             ],
             [
              0.3333333333333333,
              "#9c179e"
             ],
             [
              0.4444444444444444,
              "#bd3786"
             ],
             [
              0.5555555555555556,
              "#d8576b"
             ],
             [
              0.6666666666666666,
              "#ed7953"
             ],
             [
              0.7777777777777778,
              "#fb9f3a"
             ],
             [
              0.8888888888888888,
              "#fdca26"
             ],
             [
              1,
              "#f0f921"
             ]
            ],
            "type": "contour"
           }
          ],
          "contourcarpet": [
           {
            "colorbar": {
             "outlinewidth": 0,
             "ticks": ""
            },
            "type": "contourcarpet"
           }
          ],
          "heatmap": [
           {
            "colorbar": {
             "outlinewidth": 0,
             "ticks": ""
            },
            "colorscale": [
             [
              0,
              "#0d0887"
             ],
             [
              0.1111111111111111,
              "#46039f"
             ],
             [
              0.2222222222222222,
              "#7201a8"
             ],
             [
              0.3333333333333333,
              "#9c179e"
             ],
             [
              0.4444444444444444,
              "#bd3786"
             ],
             [
              0.5555555555555556,
              "#d8576b"
             ],
             [
              0.6666666666666666,
              "#ed7953"
             ],
             [
              0.7777777777777778,
              "#fb9f3a"
             ],
             [
              0.8888888888888888,
              "#fdca26"
             ],
             [
              1,
              "#f0f921"
             ]
            ],
            "type": "heatmap"
           }
          ],
          "heatmapgl": [
           {
            "colorbar": {
             "outlinewidth": 0,
             "ticks": ""
            },
            "colorscale": [
             [
              0,
              "#0d0887"
             ],
             [
              0.1111111111111111,
              "#46039f"
             ],
             [
              0.2222222222222222,
              "#7201a8"
             ],
             [
              0.3333333333333333,
              "#9c179e"
             ],
             [
              0.4444444444444444,
              "#bd3786"
             ],
             [
              0.5555555555555556,
              "#d8576b"
             ],
             [
              0.6666666666666666,
              "#ed7953"
             ],
             [
              0.7777777777777778,
              "#fb9f3a"
             ],
             [
              0.8888888888888888,
              "#fdca26"
             ],
             [
              1,
              "#f0f921"
             ]
            ],
            "type": "heatmapgl"
           }
          ],
          "histogram": [
           {
            "marker": {
             "pattern": {
              "fillmode": "overlay",
              "size": 10,
              "solidity": 0.2
             }
            },
            "type": "histogram"
           }
          ],
          "histogram2d": [
           {
            "colorbar": {
             "outlinewidth": 0,
             "ticks": ""
            },
            "colorscale": [
             [
              0,
              "#0d0887"
             ],
             [
              0.1111111111111111,
              "#46039f"
             ],
             [
              0.2222222222222222,
              "#7201a8"
             ],
             [
              0.3333333333333333,
              "#9c179e"
             ],
             [
              0.4444444444444444,
              "#bd3786"
             ],
             [
              0.5555555555555556,
              "#d8576b"
             ],
             [
              0.6666666666666666,
              "#ed7953"
             ],
             [
              0.7777777777777778,
              "#fb9f3a"
             ],
             [
              0.8888888888888888,
              "#fdca26"
             ],
             [
              1,
              "#f0f921"
             ]
            ],
            "type": "histogram2d"
           }
          ],
          "histogram2dcontour": [
           {
            "colorbar": {
             "outlinewidth": 0,
             "ticks": ""
            },
            "colorscale": [
             [
              0,
              "#0d0887"
             ],
             [
              0.1111111111111111,
              "#46039f"
             ],
             [
              0.2222222222222222,
              "#7201a8"
             ],
             [
              0.3333333333333333,
              "#9c179e"
             ],
             [
              0.4444444444444444,
              "#bd3786"
             ],
             [
              0.5555555555555556,
              "#d8576b"
             ],
             [
              0.6666666666666666,
              "#ed7953"
             ],
             [
              0.7777777777777778,
              "#fb9f3a"
             ],
             [
              0.8888888888888888,
              "#fdca26"
             ],
             [
              1,
              "#f0f921"
             ]
            ],
            "type": "histogram2dcontour"
           }
          ],
          "mesh3d": [
           {
            "colorbar": {
             "outlinewidth": 0,
             "ticks": ""
            },
            "type": "mesh3d"
           }
          ],
          "parcoords": [
           {
            "line": {
             "colorbar": {
              "outlinewidth": 0,
              "ticks": ""
             }
            },
            "type": "parcoords"
           }
          ],
          "pie": [
           {
            "automargin": true,
            "type": "pie"
           }
          ],
          "scatter": [
           {
            "marker": {
             "line": {
              "color": "#283442"
             }
            },
            "type": "scatter"
           }
          ],
          "scatter3d": [
           {
            "line": {
             "colorbar": {
              "outlinewidth": 0,
              "ticks": ""
             }
            },
            "marker": {
             "colorbar": {
              "outlinewidth": 0,
              "ticks": ""
             }
            },
            "type": "scatter3d"
           }
          ],
          "scattercarpet": [
           {
            "marker": {
             "colorbar": {
              "outlinewidth": 0,
              "ticks": ""
             }
            },
            "type": "scattercarpet"
           }
          ],
          "scattergeo": [
           {
            "marker": {
             "colorbar": {
              "outlinewidth": 0,
              "ticks": ""
             }
            },
            "type": "scattergeo"
           }
          ],
          "scattergl": [
           {
            "marker": {
             "line": {
              "color": "#283442"
             }
            },
            "type": "scattergl"
           }
          ],
          "scattermapbox": [
           {
            "marker": {
             "colorbar": {
              "outlinewidth": 0,
              "ticks": ""
             }
            },
            "type": "scattermapbox"
           }
          ],
          "scatterpolar": [
           {
            "marker": {
             "colorbar": {
              "outlinewidth": 0,
              "ticks": ""
             }
            },
            "type": "scatterpolar"
           }
          ],
          "scatterpolargl": [
           {
            "marker": {
             "colorbar": {
              "outlinewidth": 0,
              "ticks": ""
             }
            },
            "type": "scatterpolargl"
           }
          ],
          "scatterternary": [
           {
            "marker": {
             "colorbar": {
              "outlinewidth": 0,
              "ticks": ""
             }
            },
            "type": "scatterternary"
           }
          ],
          "surface": [
           {
            "colorbar": {
             "outlinewidth": 0,
             "ticks": ""
            },
            "colorscale": [
             [
              0,
              "#0d0887"
             ],
             [
              0.1111111111111111,
              "#46039f"
             ],
             [
              0.2222222222222222,
              "#7201a8"
             ],
             [
              0.3333333333333333,
              "#9c179e"
             ],
             [
              0.4444444444444444,
              "#bd3786"
             ],
             [
              0.5555555555555556,
              "#d8576b"
             ],
             [
              0.6666666666666666,
              "#ed7953"
             ],
             [
              0.7777777777777778,
              "#fb9f3a"
             ],
             [
              0.8888888888888888,
              "#fdca26"
             ],
             [
              1,
              "#f0f921"
             ]
            ],
            "type": "surface"
           }
          ],
          "table": [
           {
            "cells": {
             "fill": {
              "color": "#506784"
             },
             "line": {
              "color": "rgb(17,17,17)"
             }
            },
            "header": {
             "fill": {
              "color": "#2a3f5f"
             },
             "line": {
              "color": "rgb(17,17,17)"
             }
            },
            "type": "table"
           }
          ]
         },
         "layout": {
          "annotationdefaults": {
           "arrowcolor": "#f2f5fa",
           "arrowhead": 0,
           "arrowwidth": 1
          },
          "autotypenumbers": "strict",
          "coloraxis": {
           "colorbar": {
            "outlinewidth": 0,
            "ticks": ""
           }
          },
          "colorscale": {
           "diverging": [
            [
             0,
             "#8e0152"
            ],
            [
             0.1,
             "#c51b7d"
            ],
            [
             0.2,
             "#de77ae"
            ],
            [
             0.3,
             "#f1b6da"
            ],
            [
             0.4,
             "#fde0ef"
            ],
            [
             0.5,
             "#f7f7f7"
            ],
            [
             0.6,
             "#e6f5d0"
            ],
            [
             0.7,
             "#b8e186"
            ],
            [
             0.8,
             "#7fbc41"
            ],
            [
             0.9,
             "#4d9221"
            ],
            [
             1,
             "#276419"
            ]
           ],
           "sequential": [
            [
             0,
             "#0d0887"
            ],
            [
             0.1111111111111111,
             "#46039f"
            ],
            [
             0.2222222222222222,
             "#7201a8"
            ],
            [
             0.3333333333333333,
             "#9c179e"
            ],
            [
             0.4444444444444444,
             "#bd3786"
            ],
            [
             0.5555555555555556,
             "#d8576b"
            ],
            [
             0.6666666666666666,
             "#ed7953"
            ],
            [
             0.7777777777777778,
             "#fb9f3a"
            ],
            [
             0.8888888888888888,
             "#fdca26"
            ],
            [
             1,
             "#f0f921"
            ]
           ],
           "sequentialminus": [
            [
             0,
             "#0d0887"
            ],
            [
             0.1111111111111111,
             "#46039f"
            ],
            [
             0.2222222222222222,
             "#7201a8"
            ],
            [
             0.3333333333333333,
             "#9c179e"
            ],
            [
             0.4444444444444444,
             "#bd3786"
            ],
            [
             0.5555555555555556,
             "#d8576b"
            ],
            [
             0.6666666666666666,
             "#ed7953"
            ],
            [
             0.7777777777777778,
             "#fb9f3a"
            ],
            [
             0.8888888888888888,
             "#fdca26"
            ],
            [
             1,
             "#f0f921"
            ]
           ]
          },
          "colorway": [
           "#636efa",
           "#EF553B",
           "#00cc96",
           "#ab63fa",
           "#FFA15A",
           "#19d3f3",
           "#FF6692",
           "#B6E880",
           "#FF97FF",
           "#FECB52"
          ],
          "font": {
           "color": "#f2f5fa"
          },
          "geo": {
           "bgcolor": "rgb(17,17,17)",
           "lakecolor": "rgb(17,17,17)",
           "landcolor": "rgb(17,17,17)",
           "showlakes": true,
           "showland": true,
           "subunitcolor": "#506784"
          },
          "hoverlabel": {
           "align": "left"
          },
          "hovermode": "closest",
          "mapbox": {
           "style": "dark"
          },
          "paper_bgcolor": "rgb(17,17,17)",
          "plot_bgcolor": "rgb(17,17,17)",
          "polar": {
           "angularaxis": {
            "gridcolor": "#506784",
            "linecolor": "#506784",
            "ticks": ""
           },
           "bgcolor": "rgb(17,17,17)",
           "radialaxis": {
            "gridcolor": "#506784",
            "linecolor": "#506784",
            "ticks": ""
           }
          },
          "scene": {
           "xaxis": {
            "backgroundcolor": "rgb(17,17,17)",
            "gridcolor": "#506784",
            "gridwidth": 2,
            "linecolor": "#506784",
            "showbackground": true,
            "ticks": "",
            "zerolinecolor": "#C8D4E3"
           },
           "yaxis": {
            "backgroundcolor": "rgb(17,17,17)",
            "gridcolor": "#506784",
            "gridwidth": 2,
            "linecolor": "#506784",
            "showbackground": true,
            "ticks": "",
            "zerolinecolor": "#C8D4E3"
           },
           "zaxis": {
            "backgroundcolor": "rgb(17,17,17)",
            "gridcolor": "#506784",
            "gridwidth": 2,
            "linecolor": "#506784",
            "showbackground": true,
            "ticks": "",
            "zerolinecolor": "#C8D4E3"
           }
          },
          "shapedefaults": {
           "line": {
            "color": "#f2f5fa"
           }
          },
          "sliderdefaults": {
           "bgcolor": "#C8D4E3",
           "bordercolor": "rgb(17,17,17)",
           "borderwidth": 1,
           "tickwidth": 0
          },
          "ternary": {
           "aaxis": {
            "gridcolor": "#506784",
            "linecolor": "#506784",
            "ticks": ""
           },
           "baxis": {
            "gridcolor": "#506784",
            "linecolor": "#506784",
            "ticks": ""
           },
           "bgcolor": "rgb(17,17,17)",
           "caxis": {
            "gridcolor": "#506784",
            "linecolor": "#506784",
            "ticks": ""
           }
          },
          "title": {
           "x": 0.05
          },
          "updatemenudefaults": {
           "bgcolor": "#506784",
           "borderwidth": 0
          },
          "xaxis": {
           "automargin": true,
           "gridcolor": "#283442",
           "linecolor": "#506784",
           "ticks": "",
           "title": {
            "standoff": 15
           },
           "zerolinecolor": "#283442",
           "zerolinewidth": 2
          },
          "yaxis": {
           "automargin": true,
           "gridcolor": "#283442",
           "linecolor": "#506784",
           "ticks": "",
           "title": {
            "standoff": 15
           },
           "zerolinecolor": "#283442",
           "zerolinewidth": 2
          }
         }
        },
        "title": {
         "text": "2024-12-24 1M Expiry, Tail-Strike Vol Surface"
        },
        "width": 1250,
        "xaxis": {
         "showspikes": true,
         "spikecolor": "white",
         "spikemode": "across",
         "spikesnap": "cursor"
        },
        "yaxis": {
         "showspikes": true,
         "spikecolor": "white",
         "spikesnap": "cursor",
         "spikethickness": 0.5
        }
       }
      }
     },
     "metadata": {},
     "output_type": "display_data"
    }
   ],
   "source": [
    "date = datetime(2024, 12, 24)\n",
    "atm_surfaces = s490_swaptions.get_vol_surfaces(\n",
    "    date=date, expiry=\"1M\", plot_surfaces=True, use_ploty=True\n",
    ")\n",
    "atm_df = atm_surfaces[date]\n"
   ]
  },
  {
   "cell_type": "code",
   "execution_count": null,
   "metadata": {},
   "outputs": [
    {
     "name": "stderr",
     "output_type": "stream",
     "text": [
      "FETCHING VOL TIMESERIES: 100%|██████████| 141/141 [00:00<00:00, 308.43it/s]\n",
      "2024-12-25 17:30:31,452 - CurvyCUSIPs.S490Swaptions - WARNING - ATM Vol Timeseries Errors Report: \n",
      "2024-12-25 17:30:31,453 - CurvyCUSIPs.S490Swaptions - WARNING -         Date          Error\n",
      "0 2024-11-22  b'2024-11-22'\n",
      "1 2024-11-26  b'2024-11-26'\n",
      "2 2024-12-03  b'2024-12-03'\n"
     ]
    },
    {
     "data": {
      "image/png": "[encoded data removed]",
      "text/plain": [
       "<Figure size 1200x800 with 1 Axes>"
      ]
     },
     "metadata": {},
     "output_type": "display_data"
    },
    {
     "data": {
      "text/plain": [
       "{'3Mx10Y_ATM':           Date  Normal Vol  Bpvol\n",
       " 0   2024-06-03   93.818341   5.91\n",
       " 1   2024-06-04   96.834498   6.10\n",
       " 2   2024-06-05   98.263204   6.19\n",
       " 3   2024-06-06   99.215674   6.25\n",
       " 4   2024-06-07   96.834498   6.10\n",
       " ..         ...         ...    ...\n",
       " 133 2024-12-18   97.628223   6.15\n",
       " 134 2024-12-19  101.279360   6.38\n",
       " 135 2024-12-20  102.549321   6.46\n",
       " 136 2024-12-23  103.501791   6.52\n",
       " 137 2024-12-24  104.136772   6.56\n",
       " \n",
       " [138 rows x 3 columns],\n",
       " '3Mx10Y_+100':           Date  Normal Vol     Bpvol\n",
       " 0   2024-06-03  114.925910  7.239652\n",
       " 1   2024-06-04  116.513388  7.339654\n",
       " 2   2024-06-05  117.148368  7.379654\n",
       " 3   2024-06-06  116.989605  7.369652\n",
       " 4   2024-06-07  116.195916  7.319655\n",
       " ..         ...         ...       ...\n",
       " 133 2024-12-18  114.926081  7.239663\n",
       " 134 2024-12-19  117.466008  7.399663\n",
       " 135 2024-12-20  117.783429  7.419659\n",
       " 136 2024-12-23  117.783429  7.419659\n",
       " 137 2024-12-24  119.053445  7.499662\n",
       " \n",
       " [138 rows x 3 columns]}"
      ]
     },
     "execution_count": 6,
     "metadata": {},
     "output_type": "execute_result"
    }
   ],
   "source": [
    "s490_swaptions.get_vol_timeseries(\n",
    "    tenor_strike_pairs=[(\"3Mx10Y\", 0), (\"3Mx10Y\", 100)],\n",
    "    start_date=datetime(2024, 6, 1),\n",
    "    end_date=datetime(2024, 12, 24),\n",
    "    plot_timeseries=True,\n",
    ")\n"
   ]
  },
  {
   "cell_type": "code",
   "execution_count": null,
   "metadata": {},
   "outputs": [],
   "source": []
  }
 ],
 "metadata": {
  "kernelspec": {
   "display_name": "Python 3",
   "language": "python",
   "name": "python3"
  },
  "language_info": {
   "codemirror_mode": {
    "name": "ipython",
    "version": 3
   },
   "file_extension": ".py",
   "mimetype": "text/x-python",
   "name": "python",
   "nbconvert_exporter": "python",
   "pygments_lexer": "ipython3",
   "version": "3.13.0"
  }
 },
 "nbformat": 4,
 "nbformat_minor": 2
}
